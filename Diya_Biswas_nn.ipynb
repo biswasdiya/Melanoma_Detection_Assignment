{
  "nbformat": 4,
  "nbformat_minor": 0,
  "metadata": {
    "colab": {
      "provenance": []
    },
    "kernelspec": {
      "name": "python3",
      "display_name": "Python 3"
    },
    "language_info": {
      "name": "python"
    }
  },
  "cells": [
    {
      "cell_type": "markdown",
      "source": [
        "**1.Importing all the libraries**"
      ],
      "metadata": {
        "id": "uZNbXxUHtt-g"
      }
    },
    {
      "cell_type": "code",
      "execution_count": 1,
      "metadata": {
        "id": "LHPCtiDJtZFa"
      },
      "outputs": [],
      "source": [
        "import pathlib\n",
        "import tensorflow as tf\n",
        "import matplotlib.pyplot as plt\n",
        "import numpy as np\n",
        "import pandas as pd\n",
        "import os\n",
        "import PIL\n",
        "from tensorflow import keras\n",
        "from tensorflow.keras import layers\n",
        "from tensorflow.keras.models import Sequential\n",
        "from glob import glob\n",
        "from tensorflow.keras.layers.experimental.preprocessing import Rescaling\n",
        "from tensorflow.keras.layers import Dense, Dropout, Activation, Flatten, BatchNormalization, Conv2D, MaxPooling2D"
      ]
    },
    {
      "cell_type": "code",
      "source": [
        "from google.colab import drive\n",
        "drive.mount('/content/gdrive')"
      ],
      "metadata": {
        "id": "ax-BH9V7t2wo",
        "colab": {
          "base_uri": "https://localhost:8080/"
        },
        "outputId": "71d51508-19fd-48d3-9f81-5af224393be7"
      },
      "execution_count": 2,
      "outputs": [
        {
          "output_type": "stream",
          "name": "stdout",
          "text": [
            "Mounted at /content/gdrive\n"
          ]
        }
      ]
    },
    {
      "cell_type": "code",
      "source": [
        "train_path=\"/content/gdrive/MyDrive/CNN_assignment/Skin cancer ISIC The International Skin Imaging Collaboration/Train\"\n",
        "test_path=\"/content/gdrive/MyDrive/CNN_assignment/Skin cancer ISIC The International Skin Imaging Collaboration/Test\"\n",
        "data_dir_train = pathlib.Path(train_path)\n",
        "data_dir_test = pathlib.Path(test_path)"
      ],
      "metadata": {
        "id": "nH_v6afwt5Ft"
      },
      "execution_count": 7,
      "outputs": []
    },
    {
      "cell_type": "code",
      "source": [
        "image_count_train = len(list(data_dir_train.glob('*/*.jpg')))\n",
        "print(image_count_train)\n",
        "image_count_test = len(list(data_dir_test.glob('*/*.jpg')))\n",
        "print(image_count_test)"
      ],
      "metadata": {
        "id": "vazObbS8t8UF",
        "colab": {
          "base_uri": "https://localhost:8080/"
        },
        "outputId": "9314e5e4-66ee-46d4-a99e-ad209eca69d2"
      },
      "execution_count": 8,
      "outputs": [
        {
          "output_type": "stream",
          "name": "stdout",
          "text": [
            "2240\n",
            "118\n"
          ]
        }
      ]
    },
    {
      "cell_type": "markdown",
      "source": [
        "**2.Data Preparation**"
      ],
      "metadata": {
        "id": "1dy1tlYCuQf5"
      }
    },
    {
      "cell_type": "code",
      "source": [
        "batch_size = 32\n",
        "img_height = 180\n",
        "img_width = 180"
      ],
      "metadata": {
        "id": "ISvjH4bCuE9v"
      },
      "execution_count": 11,
      "outputs": []
    },
    {
      "cell_type": "markdown",
      "source": [
        "**2.1 Train Data Set Creation**"
      ],
      "metadata": {
        "id": "Cy4R1S4iua2T"
      }
    },
    {
      "cell_type": "code",
      "source": [
        "train_ds = tf.keras.preprocessing.image_dataset_from_directory(\n",
        "    data_dir_train, labels='inferred', label_mode='categorical',\n",
        "    class_names=None, color_mode='rgb', batch_size=32, image_size=(180,\n",
        "    180), shuffle=True, seed=123, validation_split=0.2, subset='training',\n",
        "    interpolation='bilinear', follow_links=False, smart_resize=False\n",
        ")"
      ],
      "metadata": {
        "id": "Y_EYQn52uVH0",
        "colab": {
          "base_uri": "https://localhost:8080/"
        },
        "outputId": "a3283d86-b7e9-4233-f2ea-1e25580ecfb5"
      },
      "execution_count": 12,
      "outputs": [
        {
          "output_type": "stream",
          "name": "stdout",
          "text": [
            "Found 2240 files belonging to 9 classes.\n",
            "Using 1792 files for training.\n"
          ]
        }
      ]
    },
    {
      "cell_type": "markdown",
      "source": [
        "**2.2 Validation Data Set Creation**"
      ],
      "metadata": {
        "id": "J2D0kMPBuiSI"
      }
    },
    {
      "cell_type": "code",
      "source": [
        "val_ds = tf.keras.preprocessing.image_dataset_from_directory(\n",
        "    data_dir_train, labels='inferred', label_mode='categorical',\n",
        "    class_names=None, color_mode='rgb', batch_size=32, image_size=(180,\n",
        "    180), shuffle=True, seed=123, validation_split=0.2, subset='validation',\n",
        "    interpolation='bilinear', follow_links=False, smart_resize=False\n",
        ")"
      ],
      "metadata": {
        "id": "Yhs4NNPiuWMT",
        "colab": {
          "base_uri": "https://localhost:8080/"
        },
        "outputId": "5bbc02dc-4c26-4a7c-cbe2-4ec6fa008334"
      },
      "execution_count": 13,
      "outputs": [
        {
          "output_type": "stream",
          "name": "stdout",
          "text": [
            "Found 2240 files belonging to 9 classes.\n",
            "Using 448 files for validation.\n"
          ]
        }
      ]
    },
    {
      "cell_type": "code",
      "source": [
        "class_names = train_ds.class_names\n",
        "print(class_names)"
      ],
      "metadata": {
        "id": "3kTdcIRgum-c",
        "colab": {
          "base_uri": "https://localhost:8080/"
        },
        "outputId": "3c629660-faf8-4a43-c5cc-61a834955da9"
      },
      "execution_count": 14,
      "outputs": [
        {
          "output_type": "stream",
          "name": "stdout",
          "text": [
            "['actinic keratosis', 'basal cell carcinoma', 'dermatofibroma', 'melanoma', 'nevus', 'pigmented benign keratosis', 'seborrheic keratosis', 'squamous cell carcinoma', 'vascular lesion']\n"
          ]
        }
      ]
    },
    {
      "cell_type": "markdown",
      "source": [
        "**3.Visualizing the data**\n"
      ],
      "metadata": {
        "id": "LZqG6fpmuvhy"
      }
    },
    {
      "cell_type": "code",
      "source": [
        "import matplotlib.pyplot as plt\n",
        "num=0\n",
        "for dirpath, dirnames, filenames in os.walk(str(train_path)):\n",
        "    for filename in [f for f in filenames if f.endswith(\".jpg\")][:1]:\n",
        "        img = PIL.Image.open(str(dirpath)+\"/\"+str(filename))\n",
        "        plt.subplot(3,3,num+1)\n",
        "        plt.title(str(dirpath).split('/')[-1])\n",
        "        plt.axis('off')\n",
        "        plt.imshow(img)\n",
        "        num=num+1"
      ],
      "metadata": {
        "id": "8EfByiPnunO9"
      },
      "execution_count": null,
      "outputs": []
    },
    {
      "cell_type": "code",
      "source": [
        "AUTOTUNE = tf.data.experimental.AUTOTUNE\n",
        "train_ds = train_ds.cache().shuffle(1000).prefetch(buffer_size=AUTOTUNE)\n",
        "val_ds = val_ds.cache().prefetch(buffer_size=AUTOTUNE)"
      ],
      "metadata": {
        "id": "-gGm7mZyunho"
      },
      "execution_count": 16,
      "outputs": []
    },
    {
      "cell_type": "markdown",
      "source": [
        "**4.Model Creation**\n"
      ],
      "metadata": {
        "id": "n-zBT2wau571"
      }
    },
    {
      "cell_type": "code",
      "source": [
        "model=Sequential([\n",
        "    tf.keras.layers.experimental.preprocessing.Rescaling(scale=1./255., offset=0.0,),         \n",
        "    \n",
        "    Conv2D(32,(3,3),input_shape=(img_height,img_width,3),activation='relu',padding='same'),\n",
        "    MaxPooling2D(pool_size=(2,2)),\n",
        "    Dropout(0.1),\n",
        "    \n",
        "    Conv2D(64,(3,3),activation='relu',padding='same'),\n",
        "    MaxPooling2D(pool_size=(2,2)),\n",
        "    Dropout(0.1),\n",
        "    \n",
        "    Flatten(),\n",
        "    Dense(128, activation='relu'),\n",
        "    Dropout(0.25),   \n",
        "    Dense(9, activation='softmax')\n",
        "])"
      ],
      "metadata": {
        "id": "plkbsOhiunrF"
      },
      "execution_count": 17,
      "outputs": []
    },
    {
      "cell_type": "code",
      "source": [
        "model.compile(optimizer='adam',\n",
        "              loss='categorical_crossentropy',\n",
        "              metrics=['accuracy'])"
      ],
      "metadata": {
        "id": "Lo23wpquun0K"
      },
      "execution_count": 18,
      "outputs": []
    },
    {
      "cell_type": "code",
      "source": [
        "##Training the model\n",
        "epochs = 20\n",
        "history = model.fit(\n",
        "  train_ds,\n",
        "  validation_data=val_ds,\n",
        "  epochs=epochs\n",
        ")"
      ],
      "metadata": {
        "id": "bEFVezEaun8v",
        "colab": {
          "base_uri": "https://localhost:8080/"
        },
        "outputId": "2debcc3a-966c-494c-d527-5c415e94335e"
      },
      "execution_count": 19,
      "outputs": [
        {
          "output_type": "stream",
          "name": "stdout",
          "text": [
            "Epoch 1/20\n",
            "56/56 [==============================] - 271s 2s/step - loss: 3.4886 - accuracy: 0.1970 - val_loss: 2.1377 - val_accuracy: 0.2054\n",
            "Epoch 2/20\n",
            "56/56 [==============================] - 102s 2s/step - loss: 2.0523 - accuracy: 0.2009 - val_loss: 2.0619 - val_accuracy: 0.2746\n",
            "Epoch 3/20\n",
            "56/56 [==============================] - 98s 2s/step - loss: 1.9608 - accuracy: 0.2617 - val_loss: 1.9048 - val_accuracy: 0.3125\n",
            "Epoch 4/20\n",
            "56/56 [==============================] - 98s 2s/step - loss: 1.8541 - accuracy: 0.3309 - val_loss: 1.9361 - val_accuracy: 0.3415\n",
            "Epoch 5/20\n",
            "56/56 [==============================] - 100s 2s/step - loss: 1.7260 - accuracy: 0.3761 - val_loss: 1.7923 - val_accuracy: 0.3683\n",
            "Epoch 6/20\n",
            "56/56 [==============================] - 98s 2s/step - loss: 1.5962 - accuracy: 0.4157 - val_loss: 1.8188 - val_accuracy: 0.3527\n",
            "Epoch 7/20\n",
            "56/56 [==============================] - 101s 2s/step - loss: 1.5399 - accuracy: 0.4420 - val_loss: 1.5692 - val_accuracy: 0.4866\n",
            "Epoch 8/20\n",
            "56/56 [==============================] - 100s 2s/step - loss: 1.4187 - accuracy: 0.5045 - val_loss: 1.5911 - val_accuracy: 0.4888\n",
            "Epoch 9/20\n",
            "56/56 [==============================] - 99s 2s/step - loss: 1.3155 - accuracy: 0.5340 - val_loss: 1.4361 - val_accuracy: 0.5246\n",
            "Epoch 10/20\n",
            "56/56 [==============================] - 99s 2s/step - loss: 1.2521 - accuracy: 0.5647 - val_loss: 1.4354 - val_accuracy: 0.5201\n",
            "Epoch 11/20\n",
            "56/56 [==============================] - 101s 2s/step - loss: 1.2303 - accuracy: 0.5820 - val_loss: 1.5663 - val_accuracy: 0.4933\n",
            "Epoch 12/20\n",
            "56/56 [==============================] - 101s 2s/step - loss: 1.1491 - accuracy: 0.6049 - val_loss: 1.4967 - val_accuracy: 0.4978\n",
            "Epoch 13/20\n",
            "56/56 [==============================] - 102s 2s/step - loss: 1.1130 - accuracy: 0.6138 - val_loss: 1.5399 - val_accuracy: 0.5022\n",
            "Epoch 14/20\n",
            "56/56 [==============================] - 101s 2s/step - loss: 1.0297 - accuracy: 0.6395 - val_loss: 1.5172 - val_accuracy: 0.5045\n",
            "Epoch 15/20\n",
            "56/56 [==============================] - 101s 2s/step - loss: 0.9808 - accuracy: 0.6574 - val_loss: 1.6982 - val_accuracy: 0.5045\n",
            "Epoch 16/20\n",
            "56/56 [==============================] - 103s 2s/step - loss: 0.9399 - accuracy: 0.6529 - val_loss: 1.6984 - val_accuracy: 0.5312\n",
            "Epoch 17/20\n",
            "56/56 [==============================] - 102s 2s/step - loss: 0.8560 - accuracy: 0.6886 - val_loss: 1.6668 - val_accuracy: 0.5112\n",
            "Epoch 18/20\n",
            "56/56 [==============================] - 103s 2s/step - loss: 0.8213 - accuracy: 0.7121 - val_loss: 1.7682 - val_accuracy: 0.5379\n",
            "Epoch 19/20\n",
            "56/56 [==============================] - 100s 2s/step - loss: 0.7775 - accuracy: 0.7338 - val_loss: 1.7462 - val_accuracy: 0.5156\n",
            "Epoch 20/20\n",
            "56/56 [==============================] - 100s 2s/step - loss: 0.7449 - accuracy: 0.7338 - val_loss: 1.8665 - val_accuracy: 0.5000\n"
          ]
        }
      ]
    },
    {
      "cell_type": "code",
      "source": [
        "model.summary()"
      ],
      "metadata": {
        "id": "bzlCOzL8vsf5",
        "colab": {
          "base_uri": "https://localhost:8080/"
        },
        "outputId": "10a79ca9-86bb-4276-85f0-f2a0942d10a5"
      },
      "execution_count": 20,
      "outputs": [
        {
          "output_type": "stream",
          "name": "stdout",
          "text": [
            "Model: \"sequential\"\n",
            "_________________________________________________________________\n",
            " Layer (type)                Output Shape              Param #   \n",
            "=================================================================\n",
            " rescaling (Rescaling)       (None, 180, 180, 3)       0         \n",
            "                                                                 \n",
            " conv2d (Conv2D)             (None, 180, 180, 32)      896       \n",
            "                                                                 \n",
            " max_pooling2d (MaxPooling2D  (None, 90, 90, 32)       0         \n",
            " )                                                               \n",
            "                                                                 \n",
            " dropout (Dropout)           (None, 90, 90, 32)        0         \n",
            "                                                                 \n",
            " conv2d_1 (Conv2D)           (None, 90, 90, 64)        18496     \n",
            "                                                                 \n",
            " max_pooling2d_1 (MaxPooling  (None, 45, 45, 64)       0         \n",
            " 2D)                                                             \n",
            "                                                                 \n",
            " dropout_1 (Dropout)         (None, 45, 45, 64)        0         \n",
            "                                                                 \n",
            " flatten (Flatten)           (None, 129600)            0         \n",
            "                                                                 \n",
            " dense (Dense)               (None, 128)               16588928  \n",
            "                                                                 \n",
            " dropout_2 (Dropout)         (None, 128)               0         \n",
            "                                                                 \n",
            " dense_1 (Dense)             (None, 9)                 1161      \n",
            "                                                                 \n",
            "=================================================================\n",
            "Total params: 16,609,481\n",
            "Trainable params: 16,609,481\n",
            "Non-trainable params: 0\n",
            "_________________________________________________________________\n"
          ]
        }
      ]
    },
    {
      "cell_type": "code",
      "source": [
        "##Visualizing training results"
      ],
      "metadata": {
        "id": "P19TfR71vsyq"
      },
      "execution_count": 22,
      "outputs": []
    },
    {
      "cell_type": "code",
      "source": [
        "acc = history.history['accuracy']\n",
        "val_acc = history.history['val_accuracy']\n",
        "\n",
        "loss = history.history['loss']\n",
        "val_loss = history.history['val_loss']\n",
        "\n",
        "epochs_range = range(epochs)\n",
        "\n",
        "plt.figure(figsize=(8, 8))\n",
        "plt.subplot(1, 2, 1)\n",
        "plt.plot(epochs_range, acc, label='Training Accuracy')\n",
        "plt.plot(epochs_range, val_acc, label='Validation Accuracy')\n",
        "plt.legend(loc='lower right')\n",
        "plt.title('Training and Validation Accuracy')\n",
        "\n",
        "plt.subplot(1, 2, 2)\n",
        "plt.plot(epochs_range, loss, label='Training Loss')\n",
        "plt.plot(epochs_range, val_loss, label='Validation Loss')\n",
        "plt.legend(loc='upper right')\n",
        "plt.title('Training and Validation Loss')\n",
        "plt.show()"
      ],
      "metadata": {
        "id": "0q7BPQgRwOqy",
        "colab": {
          "base_uri": "https://localhost:8080/",
          "height": 499
        },
        "outputId": "909d488d-ac99-47ea-8a1b-300b894cb3d6"
      },
      "execution_count": 23,
      "outputs": [
        {
          "output_type": "display_data",
          "data": {
            "text/plain": [
              "<Figure size 576x576 with 2 Axes>"
            ],
            "image/png": "[encoded data removed]"
          },
          "metadata": {
            "needs_background": "light"
          }
        }
      ]
    },
    {
      "cell_type": "code",
      "source": [
        "'''4.5 Observations\n",
        "The accuracy of the model for the Training data set is at 77%. But the Validation accuracy is not in par with the training accuracy.\n",
        "It is only at 53%. The validation loss as observed is very high.\n",
        "This could also be indicative of some Overfit in the model.\n",
        "We could add some Dropout layers and remove the BatchNormalization layers.'''"
      ],
      "metadata": {
        "id": "VPAqT3uAwO9K",
        "colab": {
          "base_uri": "https://localhost:8080/",
          "height": 53
        },
        "outputId": "637f7368-b919-432b-faaf-d0dac248bd68"
      },
      "execution_count": 26,
      "outputs": [
        {
          "output_type": "execute_result",
          "data": {
            "text/plain": [
              "'4.5 Observations\\nThe accuracy of the model for the Training data set is at 77%. But the Validation accuracy is not in par with the training accuracy.\\nIt is only at 52%. The validation loss as observed is very high.\\nThis could also be indicative of some Overfit in the model.\\nWe could add some Dropout layers and remove the BatchNormalization layers.'"
            ],
            "application/vnd.google.colaboratory.intrinsic+json": {
              "type": "string"
            }
          },
          "metadata": {},
          "execution_count": 26
        }
      ]
    },
    {
      "cell_type": "markdown",
      "source": [
        "**5. Model 1**"
      ],
      "metadata": {
        "id": "tV7RDH_Tw_Sk"
      }
    },
    {
      "cell_type": "markdown",
      "source": [
        "**5.1 Creating the Model**"
      ],
      "metadata": {
        "id": "mXAno69-xFS9"
      }
    },
    {
      "cell_type": "code",
      "source": [
        "model_update=Sequential([\n",
        "    tf.keras.layers.experimental.preprocessing.Rescaling(scale=1./255., offset=0.0,),         \n",
        "                             \n",
        "    Conv2D(32,(3,3),input_shape=(img_height,img_width,3),activation='relu',padding='same'),\n",
        "    Conv2D(32,(3,3),activation='relu'),\n",
        "    MaxPooling2D(pool_size=(2,2)),\n",
        "    Dropout(0.7),\n",
        "    \n",
        "    Conv2D(64,(3,3),activation='relu',padding='same'),\n",
        "    Conv2D(64,(3,3),activation='relu'),\n",
        "    MaxPooling2D(pool_size=(2,2)),\n",
        "    Dropout(0.7),\n",
        "    \n",
        "    Conv2D(128,(3,3),activation='relu',padding='same'),\n",
        "    Conv2D(128,(3,3),activation='relu'),\n",
        "    MaxPooling2D(pool_size=(2,2)),\n",
        "    Dropout(0.7),\n",
        "    \n",
        "    Flatten(),\n",
        "    Dense(100, activation='relu'),\n",
        "    Dropout(0.25),   \n",
        "    Dense(9, activation='softmax')\n",
        "])"
      ],
      "metadata": {
        "id": "ceNDuDIuwPJu"
      },
      "execution_count": 27,
      "outputs": []
    },
    {
      "cell_type": "markdown",
      "source": [
        "**5.2 Compiling the model**"
      ],
      "metadata": {
        "id": "ggNbG_q5xTkX"
      }
    },
    {
      "cell_type": "code",
      "source": [
        "model_update.compile(optimizer='adam',\n",
        "              loss='categorical_crossentropy',\n",
        "              metrics='accuracy')"
      ],
      "metadata": {
        "id": "jHNvqFe-wPaX"
      },
      "execution_count": 28,
      "outputs": []
    },
    {
      "cell_type": "markdown",
      "source": [
        "**5.3 Training the mode**"
      ],
      "metadata": {
        "id": "stYQ-T25xhNa"
      }
    },
    {
      "cell_type": "code",
      "source": [
        "epochs = 20\n",
        "history = model_update.fit(\n",
        "  train_ds,\n",
        "  validation_data=val_ds,\n",
        "  epochs=epochs\n",
        ")"
      ],
      "metadata": {
        "id": "9FSN3d71wPop",
        "colab": {
          "base_uri": "https://localhost:8080/"
        },
        "outputId": "1a8e4a3e-26a7-4a5e-c1c2-5043cb51c3b5"
      },
      "execution_count": null,
      "outputs": [
        {
          "output_type": "stream",
          "name": "stdout",
          "text": [
            "Epoch 1/20\n",
            "56/56 [==============================] - 411s 7s/step - loss: 2.0210 - accuracy: 0.1964 - val_loss: 2.0251 - val_accuracy: 0.2054\n",
            "Epoch 2/20\n",
            "56/56 [==============================] - 399s 7s/step - loss: 2.0280 - accuracy: 0.1925 - val_loss: 2.0231 - val_accuracy: 0.2054\n",
            "Epoch 3/20\n",
            "56/56 [==============================] - 393s 7s/step - loss: 2.0199 - accuracy: 0.1992 - val_loss: 2.0259 - val_accuracy: 0.2054\n",
            "Epoch 4/20\n",
            "56/56 [==============================] - 396s 7s/step - loss: 2.0210 - accuracy: 0.2070 - val_loss: 2.0269 - val_accuracy: 0.2054\n",
            "Epoch 5/20\n",
            "56/56 [==============================] - 391s 7s/step - loss: 2.0195 - accuracy: 0.2003 - val_loss: 2.0255 - val_accuracy: 0.2054\n",
            "Epoch 6/20\n",
            "16/56 [=======>......................] - ETA: 4:17 - loss: 2.0206 - accuracy: 0.2246"
          ]
        }
      ]
    },
    {
      "cell_type": "markdown",
      "source": [
        "**5.4 Visualizing the results**"
      ],
      "metadata": {
        "id": "bBkrsBJGx5EI"
      }
    },
    {
      "cell_type": "code",
      "source": [
        "acc = history.history['accuracy']\n",
        "val_acc = history.history['val_accuracy']\n",
        "\n",
        "loss = history.history['loss']\n",
        "val_loss = history.history['val_loss']\n",
        "\n",
        "epochs_range = range(epochs)\n",
        "\n",
        "plt.figure(figsize=(8, 8))\n",
        "plt.subplot(1, 2, 1)\n",
        "plt.plot(epochs_range, acc, label='Training Accuracy')\n",
        "plt.plot(epochs_range, val_acc, label='Validation Accuracy')\n",
        "plt.legend(loc='lower right')\n",
        "plt.title('Training and Validation Accuracy')\n",
        "\n",
        "plt.subplot(1, 2, 2)\n",
        "plt.plot(epochs_range, loss, label='Training Loss')\n",
        "plt.plot(epochs_range, val_loss, label='Validation Loss')\n",
        "plt.legend(loc='upper right')\n",
        "plt.title('Training and Validation Loss')\n",
        "plt.show()"
      ],
      "metadata": {
        "id": "ooEKdBeIwPzo"
      },
      "execution_count": null,
      "outputs": []
    },
    {
      "cell_type": "code",
      "source": [
        "'''5.5 Observations\n",
        "The model accuracy for Train data set has dropped to nearly 45%.\n",
        "The accuracy for the Validation set is at 40%.\n",
        "This is a much better model compared to the previous model as there seems to be No Overfit with the training accuracy 45% and validation accuracy at 40%. '''"
      ],
      "metadata": {
        "id": "tC4l-saqxoH9"
      },
      "execution_count": null,
      "outputs": []
    },
    {
      "cell_type": "markdown",
      "source": [
        "**6. Data Augmentation**"
      ],
      "metadata": {
        "id": "HP7cxDA6ysVW"
      }
    },
    {
      "cell_type": "code",
      "source": [
        "data_augmentation=tf.keras.Sequential([\n",
        "  layers.experimental.preprocessing.RandomFlip(\"horizontal_and_vertical\"),\n",
        "  layers.experimental.preprocessing.RandomRotation(0.2)\n",
        "])"
      ],
      "metadata": {
        "id": "qE8e11l6xoSs"
      },
      "execution_count": null,
      "outputs": []
    },
    {
      "cell_type": "markdown",
      "source": [],
      "metadata": {
        "id": "pHenDtJmyb9c"
      }
    },
    {
      "cell_type": "code",
      "source": [
        "# 6.2 Visualizing the Augmented Data"
      ],
      "metadata": {
        "id": "yRE8GmlbxodF"
      },
      "execution_count": null,
      "outputs": []
    },
    {
      "cell_type": "code",
      "source": [
        "image, label = next(iter(train_ds))\n",
        "image=np.array(image,np.int32)  \n",
        "plt.figure(figsize=(10, 10))\n",
        "for i in range(9):\n",
        "  augmented_image = data_augmentation(image)\n",
        "  ax = plt.subplot(3, 3, i + 1)\n",
        "  augmented_image1=np.array(augmented_image[0],np.int32)  \n",
        "  plt.imshow((augmented_image1))\n",
        "  plt.axis(\"off\")"
      ],
      "metadata": {
        "id": "B_KS6UEfy27b"
      },
      "execution_count": null,
      "outputs": []
    },
    {
      "cell_type": "markdown",
      "source": [
        "**7. Model 2**"
      ],
      "metadata": {
        "id": "RYLxoaXNzDV9"
      }
    },
    {
      "cell_type": "markdown",
      "source": [
        "**7.1 Creating the Model**"
      ],
      "metadata": {
        "id": "sVTXer4szHn_"
      }
    },
    {
      "cell_type": "code",
      "source": [
        "model_augmented=Sequential([\n",
        "    tf.keras.layers.experimental.preprocessing.Rescaling(scale=1./255., offset=0.0,),         \n",
        "\n",
        "    data_augmentation,\n",
        "\n",
        "    Conv2D(32,(3,3),input_shape=(img_height,img_width,3),activation='relu',padding='same'),\n",
        "    Conv2D(32,(3,3),activation='relu'),\n",
        "    MaxPooling2D(pool_size=(2,2)),\n",
        "    Dropout(0.7),\n",
        "    \n",
        "    Conv2D(64,(3,3),activation='relu',padding='same'),\n",
        "    Conv2D(64,(3,3),activation='relu'),\n",
        "    MaxPooling2D(pool_size=(2,2)),\n",
        "    Dropout(0.7),\n",
        "    \n",
        "    Conv2D(128,(3,3),activation='relu',padding='same'),\n",
        "    Conv2D(128,(3,3),activation='relu'),\n",
        "    MaxPooling2D(pool_size=(2,2)),\n",
        "    Dropout(0.7),\n",
        "    \n",
        "    Flatten(),\n",
        "    Dense(100, activation='relu'),\n",
        "    Dropout(0.25),   \n",
        "    Dense(9, activation='softmax')\n",
        "])"
      ],
      "metadata": {
        "id": "LsBvffzUy3OH"
      },
      "execution_count": null,
      "outputs": []
    },
    {
      "cell_type": "markdown",
      "source": [
        "**7.2 Compiling the model**"
      ],
      "metadata": {
        "id": "DmMhUSjtzY2N"
      }
    },
    {
      "cell_type": "code",
      "source": [
        "model_augmented.compile(optimizer='adam',\n",
        "              loss='categorical_crossentropy',\n",
        "              metrics='accuracy')"
      ],
      "metadata": {
        "id": "u2_f1DkKzRLw"
      },
      "execution_count": null,
      "outputs": []
    },
    {
      "cell_type": "markdown",
      "source": [
        "**7.3 Training the model**"
      ],
      "metadata": {
        "id": "9MivRak7zgw8"
      }
    },
    {
      "cell_type": "code",
      "source": [
        "epochs = 20\n",
        "history = model_augmented.fit(\n",
        "  train_ds,\n",
        "  validation_data=val_ds,\n",
        "  epochs=epochs\n",
        ")"
      ],
      "metadata": {
        "id": "yWpR9QNOzRco"
      },
      "execution_count": null,
      "outputs": []
    },
    {
      "cell_type": "markdown",
      "source": [
        "**7.4 Visualizing the results**"
      ],
      "metadata": {
        "id": "al85bejizyVA"
      }
    },
    {
      "cell_type": "code",
      "source": [
        "acc = history.history['accuracy']\n",
        "val_acc = history.history['val_accuracy']\n",
        "\n",
        "loss = history.history['loss']\n",
        "val_loss = history.history['val_loss']\n",
        "\n",
        "epochs_range = range(epochs)\n",
        "\n",
        "plt.figure(figsize=(8, 8))\n",
        "plt.subplot(1, 2, 1)\n",
        "plt.plot(epochs_range, acc, label='Training Accuracy')\n",
        "plt.plot(epochs_range, val_acc, label='Validation Accuracy')\n",
        "plt.legend(loc='lower right')\n",
        "plt.title('Training and Validation Accuracy')\n",
        "\n",
        "plt.subplot(1, 2, 2)\n",
        "plt.plot(epochs_range, loss, label='Training Loss')\n",
        "plt.plot(epochs_range, val_loss, label='Validation Loss')\n",
        "plt.legend(loc='upper right')\n",
        "plt.title('Training and Validation Loss')\n",
        "plt.show()"
      ],
      "metadata": {
        "id": "-O9dqJW-zoO9"
      },
      "execution_count": null,
      "outputs": []
    },
    {
      "cell_type": "markdown",
      "source": [
        "**8. Checking for Class Imbalance**"
      ],
      "metadata": {
        "id": "DDsvyRS10IqC"
      }
    },
    {
      "cell_type": "code",
      "source": [
        "for i in class_names:\n",
        "    directory =train_path+i+'/'\n",
        "    class_directory = pathlib.Path(directory)\n",
        "    length=len(list(class_directory.glob('*.jpg')))\n",
        "    print(f'{i} has {length} samples.')"
      ],
      "metadata": {
        "id": "XhwrRWT_zq9e"
      },
      "execution_count": null,
      "outputs": []
    },
    {
      "cell_type": "markdown",
      "source": [
        "**9. Using Augmentor for Class Imbalance Treatment**"
      ],
      "metadata": {
        "id": "__bO8UHx0rUx"
      }
    },
    {
      "cell_type": "markdown",
      "source": [
        "**9.1 Installing Augmentor**"
      ],
      "metadata": {
        "id": "3iwC_LIE0z6J"
      }
    },
    {
      "cell_type": "code",
      "source": [
        "!pip install Augmentor"
      ],
      "metadata": {
        "id": "CrguOMBozrLJ"
      },
      "execution_count": null,
      "outputs": []
    },
    {
      "cell_type": "markdown",
      "source": [
        "**9.2 Augumentor**"
      ],
      "metadata": {
        "id": "YQrN6mT7Y72Q"
      }
    },
    {
      "cell_type": "code",
      "source": [
        "path_to_training_dataset=train_path\n",
        "import Augmentor\n",
        "for i in class_names:\n",
        "    p = Augmentor.Pipeline(path_to_training_dataset + i)\n",
        "    p.rotate(probability=0.7, max_left_rotation=10, max_right_rotation=10)\n",
        "    p.sample(500)"
      ],
      "metadata": {
        "id": "qbdeltBe06EF"
      },
      "execution_count": null,
      "outputs": []
    },
    {
      "cell_type": "code",
      "source": [
        "mage_count_train = len(list(data_dir_train.glob('*/output/*.jpg')))\n",
        "print(image_count_train)"
      ],
      "metadata": {
        "id": "3LBGXiJb06W-"
      },
      "execution_count": null,
      "outputs": []
    },
    {
      "cell_type": "code",
      "source": [
        "path_list = [x for x in glob(os.path.join(data_dir_train, '*','output', '*.jpg'))]"
      ],
      "metadata": {
        "id": "aSJ3r6X906ij"
      },
      "execution_count": null,
      "outputs": []
    },
    {
      "cell_type": "code",
      "source": [
        "lesion_list_new = [os.path.basename(os.path.dirname(os.path.dirname(y))) for y in glob(os.path.join(data_dir_train, '*','output', '*.jpg'))]"
      ],
      "metadata": {
        "id": "7ul-z68q069q"
      },
      "execution_count": null,
      "outputs": []
    },
    {
      "cell_type": "code",
      "source": [
        "dataframe_dict_new = dict(zip(path_list, lesion_list_new))"
      ],
      "metadata": {
        "id": "yxzScEhH07KD"
      },
      "execution_count": null,
      "outputs": []
    },
    {
      "cell_type": "code",
      "source": [
        "for i in class_names:\n",
        "    directory =train_path+i+'/'\n",
        "    directory_out =train_path+i+'/output/'\n",
        "    class_directory = pathlib.Path(directory)\n",
        "    class_directory_out = pathlib.Path(directory_out)\n",
        "    length=len(list(class_directory.glob('*.jpg')))\n",
        "    length_out=len(list(class_directory_out.glob('*.jpg')))\n",
        "    length_tot=length+length_out\n",
        "    print(f'{i} has {length_tot} samples.')for i in class_names:\n",
        "    directory =train_path+i+'/'\n",
        "    directory_out =train_path+i+'/output/'\n",
        "    class_directory = pathlib.Path(directory)\n",
        "    class_directory_out = pathlib.Path(directory_out)\n",
        "    length=len(list(class_directory.glob('*.jpg')))\n",
        "    length_out=len(list(class_directory_out.glob('*.jpg')))\n",
        "    length_tot=length+length_out\n",
        "    print(f'{i} has {length_tot} samples.')"
      ],
      "metadata": {
        "id": "4traKhtDZQUH"
      },
      "execution_count": null,
      "outputs": []
    },
    {
      "cell_type": "code",
      "source": [
        "''' The Augmentor has helped decrease the imbalance in class images and that can be viewed from above. '''"
      ],
      "metadata": {
        "id": "mdijO7MBZR1O"
      },
      "execution_count": null,
      "outputs": []
    },
    {
      "cell_type": "markdown",
      "source": [
        "**10. Modelling Augmented Data**"
      ],
      "metadata": {
        "id": "QbX3a65vZauN"
      }
    },
    {
      "cell_type": "code",
      "source": [
        "batch_size = 32\n",
        "img_height = 180\n",
        "img_width = 180"
      ],
      "metadata": {
        "id": "3ZBqcyTIZSIT"
      },
      "execution_count": null,
      "outputs": []
    },
    {
      "cell_type": "code",
      "source": [
        "# Training Data Set Creation\n",
        "data_dir_train=train_path\n",
        "train_ds = tf.keras.preprocessing.image_dataset_from_directory(\n",
        "  data_dir_train,\n",
        "  seed=123, label_mode='categorical',\n",
        "  validation_split = 0.2,\n",
        "  subset = 'training',\n",
        "  image_size=(img_height, img_width),\n",
        "  batch_size=batch_size)"
      ],
      "metadata": {
        "id": "C9Or_HZRZgy7"
      },
      "execution_count": null,
      "outputs": []
    },
    {
      "cell_type": "code",
      "source": [
        "# Validation Data Set\n",
        "val_ds = tf.keras.preprocessing.image_dataset_from_directory(\n",
        "  data_dir_train,\n",
        "  seed=123, label_mode='categorical',\n",
        "  validation_split = 0.2,\n",
        "  subset = 'validation',\n",
        "  image_size=(img_height, img_width),\n",
        "  batch_size=batch_size)"
      ],
      "metadata": {
        "id": "eOQO6zmAZg8E"
      },
      "execution_count": null,
      "outputs": []
    },
    {
      "cell_type": "markdown",
      "source": [
        "**11. Model 3**"
      ],
      "metadata": {
        "id": "SNtHZH-KbbFu"
      }
    },
    {
      "cell_type": "markdown",
      "source": [
        "**11.1 Model Creation**"
      ],
      "metadata": {
        "id": "X-cvf79dblwe"
      }
    },
    {
      "cell_type": "code",
      "source": [
        "model_final=Sequential([\n",
        "    tf.keras.layers.experimental.preprocessing.Rescaling(scale=1./255., offset=0.0,),         \n",
        "    \n",
        "    Conv2D(32,(3,3),input_shape=(img_height,img_width,3),activation='relu',padding='same'),\n",
        "    MaxPooling2D(pool_size=(2,2)),\n",
        "    Dropout(0.1),\n",
        "    \n",
        "    Conv2D(64,(3,3),activation='relu',padding='same'),\n",
        "    MaxPooling2D(pool_size=(2,2)),\n",
        "    Dropout(0.1),\n",
        "    \n",
        "    Flatten(),\n",
        "    Dense(128, activation='relu'),\n",
        "    Dropout(0.25),   \n",
        "    Dense(9, activation='softmax')\n",
        "])"
      ],
      "metadata": {
        "id": "-03DsVkgZnEk"
      },
      "execution_count": null,
      "outputs": []
    },
    {
      "cell_type": "markdown",
      "source": [
        "**11.2 Model Compiling**"
      ],
      "metadata": {
        "id": "cZWK8bsFbzDM"
      }
    },
    {
      "cell_type": "code",
      "source": [
        "model_final.compile(optimizer='adam',\n",
        "              loss='categorical_crossentropy',\n",
        "              metrics='accuracy')"
      ],
      "metadata": {
        "id": "Y0Uq6ODlZnMN"
      },
      "execution_count": null,
      "outputs": []
    },
    {
      "cell_type": "markdown",
      "source": [
        "**11.3 Training the Model**"
      ],
      "metadata": {
        "id": "uih6MfONb-gZ"
      }
    },
    {
      "cell_type": "code",
      "source": [
        "epochs = 30\n",
        "history = model_final.fit(\n",
        "  train_ds,\n",
        "  validation_data=val_ds,\n",
        "  epochs=epochs\n",
        ")"
      ],
      "metadata": {
        "id": "A9OkqicJb6LK"
      },
      "execution_count": null,
      "outputs": []
    },
    {
      "cell_type": "markdown",
      "source": [
        "**11.4 Visualizing the results**"
      ],
      "metadata": {
        "id": "UXs9uVxQcJe4"
      }
    },
    {
      "cell_type": "code",
      "source": [
        "acc = history.history['accuracy']\n",
        "val_acc = history.history['val_accuracy']\n",
        "\n",
        "loss = history.history['loss']\n",
        "val_loss = history.history['val_loss']\n",
        "\n",
        "epochs_range = range(epochs)\n",
        "\n",
        "plt.figure(figsize=(8, 8))\n",
        "plt.subplot(1, 2, 1)\n",
        "plt.plot(epochs_range, acc, label='Training Accuracy')\n",
        "plt.plot(epochs_range, val_acc, label='Validation Accuracy')\n",
        "plt.legend(loc='lower right')\n",
        "plt.title('Training and Validation Accuracy')\n",
        "\n",
        "plt.subplot(1, 2, 2)\n",
        "plt.plot(epochs_range, loss, label='Training Loss')\n",
        "plt.plot(epochs_range, val_loss, label='Validation Loss')\n",
        "plt.legend(loc='upper right')\n",
        "plt.title('Training and Validation Loss')\n",
        "plt.show()"
      ],
      "metadata": {
        "id": "L3Rzy_Pib6Sl"
      },
      "execution_count": null,
      "outputs": []
    },
    {
      "cell_type": "markdown",
      "source": [
        "**11.5 Obervation**\n",
        "\n",
        "\n",
        "---\n",
        "\n",
        "\n",
        "\n",
        "---\n",
        "\n"
      ],
      "metadata": {
        "id": "q3jwB8jPcYQR"
      }
    },
    {
      "cell_type": "markdown",
      "source": [
        "\n",
        "\n",
        "* The training accuracy seems to be nearly ~90%.\n",
        "* The validation accuracy is nearly ~80%\n",
        "* Though the model accuracy has been improved, the class rebalance has helped treat the overfitting to some extent.\n",
        "* Much better models cab be built using more epochs layers."
      ],
      "metadata": {
        "id": "aKoxg31tc7fQ"
      }
    }
  ]
}